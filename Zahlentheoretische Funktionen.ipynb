{
 "cells": [
  {
   "cell_type": "code",
   "execution_count": 1,
   "metadata": {
    "scrolled": true
   },
   "outputs": [],
   "source": [
    "#Fakultät\n",
    "def fak(n): \n",
    "    if n>1:\n",
    "        return fak(n-1)*n\n",
    "    else:\n",
    "        return 1"
   ]
  },
  {
   "cell_type": "code",
   "execution_count": 2,
   "metadata": {},
   "outputs": [],
   "source": [
    "#Teiler in Liste\n",
    "def dvdr (c):\n",
    "    a=[]\n",
    "    for i in range(1,c+1):\n",
    "        if c%i==0:\n",
    "            a.append(i)\n",
    "    return a"
   ]
  },
  {
   "cell_type": "code",
   "execution_count": 3,
   "metadata": {},
   "outputs": [],
   "source": [
    "#Teileranzahl\n",
    "def numDiv(k):\n",
    "    temp1 = 0\n",
    "    for i in range(1,k+1):\n",
    "        if k%i==0:\n",
    "            temp1+=1\n",
    "    return temp1"
   ]
  },
  {
   "cell_type": "code",
   "execution_count": 4,
   "metadata": {},
   "outputs": [],
   "source": [
    "#Teilersumme\n",
    "def sumDiv(l):\n",
    "    temp2 = 0\n",
    "    for i in range(1,l+1):\n",
    "        if l%i==0:\n",
    "            temp2+=i\n",
    "    return temp2"
   ]
  },
  {
   "cell_type": "code",
   "execution_count": 5,
   "metadata": {},
   "outputs": [],
   "source": [
    "#Eche Teilersumme LEMMA LEMMA LEMMA LEMMA LEMMA LEMMA LEMMA \n",
    "def realSumDiv(m):\n",
    "    return sumDiv(m)-m"
   ]
  },
  {
   "cell_type": "code",
   "execution_count": 6,
   "metadata": {},
   "outputs": [],
   "source": [
    "#Primzahltest\n",
    "def primTest(p):\n",
    "    if realSumDiv(p)==1:\n",
    "        string1=\"Primzahl\"\n",
    "    else: \n",
    "        string1=\"Keine Primzahl\"\n",
    "    return string1"
   ]
  },
  {
   "cell_type": "code",
   "execution_count": 7,
   "metadata": {},
   "outputs": [],
   "source": [
    "#Alle Informationen über Zahl gesammelt. \n",
    "def inf(z):\n",
    "    \n",
    "    print(\"Zahl: \")\n",
    "    print(z)\n",
    "    \n",
    "    print(\"Fakultät: \")\n",
    "    print(fak(z))\n",
    "    \n",
    "    print(\"Teiler: \")\n",
    "    print(dvdr(z))\n",
    "    \n",
    "    print(\"Teieranzahl: \")\n",
    "    print(numDiv(z))\n",
    "    \n",
    "    print(\"Teilersumme: \")\n",
    "    print(sumDiv(z))\n",
    "    \n",
    "    print(\"Primzahl? \")\n",
    "    print(primTest(z))\n"
   ]
  },
  {
   "cell_type": "code",
   "execution_count": 11,
   "metadata": {
    "scrolled": true
   },
   "outputs": [
    {
     "name": "stdout",
     "output_type": "stream",
     "text": [
      "Zahl: \n",
      "78\n",
      "Fakultät: \n",
      "11324281178206297831457521158732046228731749579488251990048962825668835325234200766245086213177344000000000000000000\n",
      "Teiler: \n",
      "[1, 2, 3, 6, 13, 26, 39, 78]\n",
      "Teieranzahl: \n",
      "8\n",
      "Teilersumme: \n",
      "168\n",
      "Primzahl? \n",
      "Keine Primzahl\n"
     ]
    }
   ],
   "source": [
    "inf(78)"
   ]
  }
 ],
 "metadata": {
  "kernelspec": {
   "display_name": "Python 3",
   "language": "python",
   "name": "python3"
  },
  "language_info": {
   "codemirror_mode": {
    "name": "ipython",
    "version": 3
   },
   "file_extension": ".py",
   "mimetype": "text/x-python",
   "name": "python",
   "nbconvert_exporter": "python",
   "pygments_lexer": "ipython3",
   "version": "3.7.0"
  }
 },
 "nbformat": 4,
 "nbformat_minor": 2
}
