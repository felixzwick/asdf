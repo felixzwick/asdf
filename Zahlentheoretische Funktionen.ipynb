{
 "cells": [
  {
   "cell_type": "code",
   "execution_count": 1,
   "metadata": {
    "scrolled": true
   },
   "outputs": [],
   "source": [
    "#Fakultät\n",
    "def fak(n): \n",
    "    if n>1:\n",
    "        return fak(n-1)*n\n",
    "    else:\n",
    "        return 1"
   ]
  },
  {
   "cell_type": "code",
   "execution_count": 2,
   "metadata": {},
   "outputs": [],
   "source": [
    "#Teiler in Liste\n",
    "def dvdr (c):\n",
    "    a=[]\n",
    "    for i in range(1,c+1):\n",
    "        if c%i==0:\n",
    "            a.append(i)\n",
    "    return a"
   ]
  },
  {
   "cell_type": "code",
   "execution_count": 3,
   "metadata": {},
   "outputs": [],
   "source": [
    "#Teileranzahl\n",
    "def numDiv(k):\n",
    "    temp1 = 0\n",
    "    for i in range(1,k+1):\n",
    "        if k%i==0:\n",
    "            temp1+=1\n",
    "    return temp1"
   ]
  },
  {
   "cell_type": "code",
   "execution_count": 4,
   "metadata": {},
   "outputs": [],
   "source": [
    "#Teilersumme\n",
    "def sumDiv(l):\n",
    "    temp2 = 0\n",
    "    for i in range(1,l+1):\n",
    "        if l%i==0:\n",
    "            temp2+=i\n",
    "    return temp2"
   ]
  },
  {
   "cell_type": "code",
   "execution_count": 5,
   "metadata": {},
   "outputs": [],
   "source": [
    "#Eche Teilersumme LEMMA LEMMA LEMMA LEMMA LEMMA LEMMA LEMMA \n",
    "def realSumDiv(m):\n",
    "    return sumDiv(m)-m"
   ]
  },
  {
   "cell_type": "code",
   "execution_count": 6,
   "metadata": {},
   "outputs": [],
   "source": [
    "import os\n",
    "primes = []\n",
    "def createPrimeList():\n",
    "    for possiblePrime in range(2, 100000):\n",
    "    \n",
    "        # Generierung von Primzahlen\n",
    "        isPrime = True\n",
    "        for num in range(2, possiblePrime):\n",
    "            if possiblePrime % num == 0:\n",
    "                isPrime = False\n",
    "      \n",
    "    if isPrime:\n",
    "        primes.append(possiblePrime)\n",
    "# Speicherung in der Datei \"Primelist.txt\"\n",
    "if not os.path.isfile('Primelist.txt'):\n",
    "    with open('Primelist.txt', 'w') as f:\n",
    "            for e in range(0,len(primes)):\n",
    "                f.writelines(str(primes[e]) + \"\\n\") "
   ]
  },
  {
   "cell_type": "code",
   "execution_count": 7,
   "metadata": {},
   "outputs": [],
   "source": [
    "def getPrimeList():\n",
    "    with open('Primelist.txt', 'r') as g:\n",
    "        \n",
    "        return g.readlines()\n"
   ]
  },
  {
   "cell_type": "code",
   "execution_count": 8,
   "metadata": {},
   "outputs": [],
   "source": [
    "# Ersetzt die übliche list schreibweise: primes[index] ---> getPrime(index)\n",
    "# Dies ist von nöten, das ein Newline Element in der Liste gespeichert ist\n",
    "def getPrimes(index=\"\"):\n",
    "    primes = getPrimeList()\n",
    "    primes = map(lambda s: s.strip(), primes) # löschen des Newline Elements...................lambda yey....\n",
    "    if index is \"\":\n",
    "        return primes\n",
    "    return primes[index]"
   ]
  },
  {
   "cell_type": "code",
   "execution_count": 9,
   "metadata": {},
   "outputs": [],
   "source": [
    "#Ist die Zahl eine Primzahl?\n",
    "def isPrime(prime):\n",
    "    if str(prime) in getPrimes():\n",
    "        return True\n",
    "    else:\n",
    "        return False"
   ]
  },
  {
   "cell_type": "code",
   "execution_count": 10,
   "metadata": {},
   "outputs": [],
   "source": [
    "#Alle Informationen über Zahl gesammelt. \n",
    "def inf(z):\n",
    "    \n",
    "    print(\"Zahl: \")\n",
    "    print(z)\n",
    "    \n",
    "    print(\"Fakultät: \")\n",
    "    print(fak(z))\n",
    "    \n",
    "    print(\"Teiler: \")\n",
    "    print(dvdr(z))\n",
    "    \n",
    "    print(\"Teieranzahl: \")\n",
    "    print(numDiv(z))\n",
    "    \n",
    "    print(\"Teilersumme: \")\n",
    "    print(sumDiv(z))\n",
    "    \n",
    "    print(\"Primzahl? \")\n",
    "    print(isPrime(z))\n"
   ]
  },
  {
   "cell_type": "code",
   "execution_count": 11,
   "metadata": {
    "scrolled": false
   },
   "outputs": [
    {
     "name": "stdout",
     "output_type": "stream",
     "text": [
      "Zahl: \n",
      "1\n",
      "Fakultät: \n",
      "1\n",
      "Teiler: \n",
      "[1]\n",
      "Teieranzahl: \n",
      "1\n",
      "Teilersumme: \n",
      "1\n",
      "Primzahl? \n",
      "False\n"
     ]
    }
   ],
   "source": [
    "inf(1)"
   ]
  },
  {
   "cell_type": "code",
   "execution_count": null,
   "metadata": {},
   "outputs": [],
   "source": []
  }
 ],
 "metadata": {
  "kernelspec": {
   "display_name": "Python 3",
   "language": "python",
   "name": "python3"
  },
  "language_info": {
   "codemirror_mode": {
    "name": "ipython",
    "version": 3
   },
   "file_extension": ".py",
   "mimetype": "text/x-python",
   "name": "python",
   "nbconvert_exporter": "python",
   "pygments_lexer": "ipython3",
   "version": "3.7.0"
  }
 },
 "nbformat": 4,
 "nbformat_minor": 2
}
