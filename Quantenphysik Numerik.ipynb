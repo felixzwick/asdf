{
 "cells": [
  {
   "cell_type": "code",
   "execution_count": null,
   "metadata": {},
   "outputs": [],
   "source": [
    "import numpy as np \n",
    "import matplotlib.pyplot as plt\n",
    "import math\n",
    "from math import sin,cos,tan,asin,acos,atan,sqrt,pi,e,exp,log     "
   ]
  },
  {
   "cell_type": "code",
   "execution_count": null,
   "metadata": {},
   "outputs": [],
   "source": [
    "v=np.array([3,1,4])\n",
    "w=np.array([1,1,2])\n",
    "x=[[1,1,1],[2,2,2],[3,3,3]]\n",
    "y=[[1,2,3],[2,1,3],[3,2,1]]"
   ]
  },
  {
   "cell_type": "code",
   "execution_count": null,
   "metadata": {},
   "outputs": [],
   "source": [
    "#Skalarprodukt\n",
    "def skalarprod(a,b):\n",
    "    temp1=0\n",
    "    if len(a)==len(b):\n",
    "        for i in range(len(a)):\n",
    "            temp1+=a[i]*b[i]\n",
    "    return temp1"
   ]
  },
  {
   "cell_type": "code",
   "execution_count": null,
   "metadata": {},
   "outputs": [],
   "source": [
    "#Skalarprodukt von Numpy (auch für Vektor-Matrix und Matrix-Matrix Produkt)\n",
    "np.dot(v,w)"
   ]
  },
  {
   "cell_type": "code",
   "execution_count": null,
   "metadata": {},
   "outputs": [],
   "source": [
    "#Betrag eines Vektors\n",
    "def betrag(c):\n",
    "    return sqrt(skalarprod(c,c))   "
   ]
  },
  {
   "cell_type": "code",
   "execution_count": null,
   "metadata": {},
   "outputs": [],
   "source": [
    "#Winkel zwischen zwei Vektoren \n",
    "def winkel(d,e):\n",
    "    return acos(skalarprod(d,e)/betrag(d)/betrag(e))"
   ]
  },
  {
   "cell_type": "code",
   "execution_count": null,
   "metadata": {},
   "outputs": [],
   "source": [
    "#Rotationsmatrix \n",
    "def rotmat(c):\n",
    "    a=cos(c)\n",
    "    b=sin(c)\n",
    "    R=np.matrix(((a,-b),(b,a)))\n",
    "    return R"
   ]
  },
  {
   "cell_type": "code",
   "execution_count": null,
   "metadata": {},
   "outputs": [],
   "source": [
    "#Vektor-Matrix-Produkt\n",
    "def vekmatprod(vek,mat):\n",
    "    result = []\n",
    "    for i in range(len(mat[0])): \n",
    "        total = 0\n",
    "        for j in range(len(vek)): \n",
    "            total += vek[j] * mat[j][i]\n",
    "        result.append(total)\n",
    "    return result"
   ]
  },
  {
   "cell_type": "code",
   "execution_count": null,
   "metadata": {},
   "outputs": [],
   "source": [
    "#Matrix-Matrix-Produkt\n",
    "def matprod(X,Y):\n",
    "    for i in range(len(X)):\n",
    "        for j in range(len(Y[0])):      \n",
    "            for k in range(len(Y)):\n",
    "                result[i][j] += X[i][k] * Y[k][j]\n",
    "    return print(result)"
   ]
  },
  {
   "cell_type": "code",
   "execution_count": null,
   "metadata": {},
   "outputs": [],
   "source": [
    "#Drehung eines Vektors um bestimmten Winkel \n",
    "def rotate(winkel,vektor):\n",
    "    result = np.dot(rotmat(winkel),vektor)\n",
    "    return result\n",
    "        "
   ]
  }
 ],
 "metadata": {
  "kernelspec": {
   "display_name": "Python 3",
   "language": "python",
   "name": "python3"
  },
  "language_info": {
   "codemirror_mode": {
    "name": "ipython",
    "version": 3
   },
   "file_extension": ".py",
   "mimetype": "text/x-python",
   "name": "python",
   "nbconvert_exporter": "python",
   "pygments_lexer": "ipython3",
   "version": "3.7.0"
  }
 },
 "nbformat": 4,
 "nbformat_minor": 2
}
